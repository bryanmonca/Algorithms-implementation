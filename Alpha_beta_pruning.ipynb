{
 "cells": [
  {
   "cell_type": "markdown",
   "metadata": {},
   "source": [
    "## Alpha-Beta Pruning"
   ]
  },
  {
   "cell_type": "markdown",
   "metadata": {},
   "source": [
    "In this assignment, we will implement the Alpha-Beta pruning algorithm to find the Alpha and Beta values for the nodes in the Min/Max game tree below:"
   ]
  },
  {
   "cell_type": "code",
   "execution_count": 1,
   "metadata": {},
   "outputs": [],
   "source": [
    "graph = {\n",
    "    'a0': ['b0', 'b1'],\n",
    "    'b0': ['c0', 'c1'],\n",
    "    'b1': ['c2', 'c3'],\n",
    "    'c0': ['d0', 'd1', 'd2'],\n",
    "    'c1': ['d3', 'd4'],\n",
    "    'c2': ['d5', 'd6'],\n",
    "    'c3': ['d7', 'd8'],\n",
    "    'd0': ['e0'],\n",
    "    'd1': ['e1', 'e2', 'e3'],\n",
    "    'd2': ['e4'],\n",
    "    'd3': ['e5', 'e6'],\n",
    "    'd4': ['e7', 'e8'],\n",
    "    'd5': ['e9', 'e10'],\n",
    "    'd6': ['e11'],\n",
    "    'd7': ['e12'],\n",
    "    'd8': ['e13', 'e14']\n",
    "}"
   ]
  },
  {
   "cell_type": "markdown",
   "metadata": {},
   "source": [
    "The final nodes identified by the letter 'e' are the terminal nodes and these are their states:"
   ]
  },
  {
   "cell_type": "code",
   "execution_count": 2,
   "metadata": {
    "scrolled": true
   },
   "outputs": [],
   "source": [
    "terminal_nodes = {\n",
    "    'e0': -1, \n",
    "    'e1': 2,\n",
    "    'e2': 3, \n",
    "    'e3': -5,\n",
    "    'e4': 0, \n",
    "    'e5': 4,\n",
    "    'e6': 7, \n",
    "    'e7': 2,\n",
    "    'e8': 6, \n",
    "    'e9': 9,\n",
    "    'e10': 8, \n",
    "    'e11': 1,\n",
    "    'e12': 4, \n",
    "    'e13': 0,\n",
    "    'e14': 5 \n",
    "}"
   ]
  },
  {
   "cell_type": "markdown",
   "metadata": {},
   "source": [
    "### Implementation"
   ]
  },
  {
   "cell_type": "markdown",
   "metadata": {},
   "source": [
    "We will do a recurrent version of the algorithm where our stopping condition is opening a terminal node. All alphas and betas are going to be saved in a list of lists called 'alphas_betas'. Also, to be consistent with AIMA's implementation (using +/-infinity) our max and min initial values will be defined using math's library 'inf'. Finally, we will print all expanded and pruned nodes."
   ]
  },
  {
   "cell_type": "code",
   "execution_count": 3,
   "metadata": {},
   "outputs": [],
   "source": [
    "from math import inf\n",
    "\n",
    "alphas_betas = []"
   ]
  },
  {
   "cell_type": "code",
   "execution_count": 4,
   "metadata": {},
   "outputs": [],
   "source": [
    "# Recursive implementation of alpha-beta pruning algorithm. The final value of the root \n",
    "# will be returned. It also prints all expanded and pruned nodes and saves all alphas and \n",
    "# betas for each node in a global list. max_player is true when it is max player's turn.\n",
    "def alphabeta(node, alpha, beta, max_player):\n",
    "    if node in terminal_nodes:\n",
    "        print(\"Opening Terminal Node\", node, \"->\", terminal_nodes[node])\n",
    "        return terminal_nodes[node]\n",
    "    \n",
    "    num_node_child = len(graph[node])\n",
    "    if max_player:\n",
    "        v = -inf\n",
    "        print(\"Expanding Max Node\", node, \"->\", \"alpha:\", alpha,\n",
    "              \"beta:\", beta)       \n",
    "        for num_child, child in enumerate(graph[node]):\n",
    "            v = max(v, alphabeta(child, alpha, beta, False))\n",
    "            alpha = max(alpha, v)\n",
    "            alphas_betas.append([node, [alpha, beta]]) # Saving alpha-beta values\n",
    "            if (beta <= alpha):\n",
    "                if (num_child < num_node_child-1):\n",
    "                    for i in range(num_child+1, num_node_child):\n",
    "                        print(\"Pruning Node -> \", graph[node][i])\n",
    "                break\n",
    "        return v\n",
    "    else:\n",
    "        v = inf\n",
    "        print(\"Expanding Min Node\", node, \"->\", \"alpha:\", alpha,\n",
    "              \"beta:\", beta)       \n",
    "        for num_child, child in enumerate(graph[node]):\n",
    "            v = min(v, alphabeta(child, alpha, beta, True))\n",
    "            beta = min(beta, v)\n",
    "            alphas_betas.append([node, [alpha, beta]]) # Saving alpha-beta values\n",
    "            if (beta <= alpha):\n",
    "                if (num_child < num_node_child-1):\n",
    "                    for i in range(num_child+1, num_node_child):\n",
    "                        print(\"Pruning Node -> \", graph[node][i])\n",
    "                break\n",
    "        return v   "
   ]
  },
  {
   "cell_type": "markdown",
   "metadata": {},
   "source": [
    "### Output"
   ]
  },
  {
   "cell_type": "markdown",
   "metadata": {},
   "source": [
    "Now we will use our implementation. The input is our initial node 'a0', initial alpha -inf, initial beta +inf, and max_player=true (it is max player's turn).\n",
    "\n",
    "Additionally, we are going to find the Best move, the Move that the root would make. The way we will do it is the following: we will find our a0 (root) final alpha (max value) among the final betas (min values) of a0's children. It is true that just a simple 'if statement' might be enough to get the best move of 2 children, but we try to generalize the problem, so that we can use this code in other cases (n children):"
   ]
  },
  {
   "cell_type": "code",
   "execution_count": 5,
   "metadata": {
    "scrolled": false
   },
   "outputs": [
    {
     "name": "stdout",
     "output_type": "stream",
     "text": [
      "Expanding Max Node a0 -> alpha: -inf beta: inf\n",
      "Expanding Min Node b0 -> alpha: -inf beta: inf\n",
      "Expanding Max Node c0 -> alpha: -inf beta: inf\n",
      "Expanding Min Node d0 -> alpha: -inf beta: inf\n",
      "Opening Terminal Node e0 -> -1\n",
      "Expanding Min Node d1 -> alpha: -1 beta: inf\n",
      "Opening Terminal Node e1 -> 2\n",
      "Opening Terminal Node e2 -> 3\n",
      "Opening Terminal Node e3 -> -5\n",
      "Expanding Min Node d2 -> alpha: -1 beta: inf\n",
      "Opening Terminal Node e4 -> 0\n",
      "Expanding Max Node c1 -> alpha: -inf beta: 0\n",
      "Expanding Min Node d3 -> alpha: -inf beta: 0\n",
      "Opening Terminal Node e5 -> 4\n",
      "Opening Terminal Node e6 -> 7\n",
      "Pruning Node ->  d4\n",
      "Expanding Min Node b1 -> alpha: 0 beta: inf\n",
      "Expanding Max Node c2 -> alpha: 0 beta: inf\n",
      "Expanding Min Node d5 -> alpha: 0 beta: inf\n",
      "Opening Terminal Node e9 -> 9\n",
      "Opening Terminal Node e10 -> 8\n",
      "Expanding Min Node d6 -> alpha: 8 beta: inf\n",
      "Opening Terminal Node e11 -> 1\n",
      "Expanding Max Node c3 -> alpha: 0 beta: 8\n",
      "Expanding Min Node d7 -> alpha: 0 beta: 8\n",
      "Opening Terminal Node e12 -> 4\n",
      "Expanding Min Node d8 -> alpha: 4 beta: 8\n",
      "Opening Terminal Node e13 -> 0\n",
      "Pruning Node ->  e14\n",
      "\n",
      "Expansions completed\n",
      "\n",
      "Value of Max Node a0 =  4\n",
      "Move that Max Node a0 would make is ->  b1\n"
     ]
    }
   ],
   "source": [
    "max_node_value = alphabeta('a0', -inf, inf, True)\n",
    "print(\"\\nExpansions completed\")\n",
    "print(\"\\nValue of Max Node a0 = \", max_node_value)\n",
    "\n",
    "## Best move\n",
    "final_alpha_betas = dict(alphas_betas)\n",
    "possible_moves = graph['a0']\n",
    "best_alpha = -inf\n",
    "best_move = ''\n",
    "for move in possible_moves:\n",
    "    beta = final_alpha_betas[move][1]\n",
    "    if (beta > best_alpha):\n",
    "        best_alpha = beta\n",
    "        best_move = move\n",
    "print(\"Move that Max Node a0 would make is -> \", best_move)"
   ]
  },
  {
   "cell_type": "markdown",
   "metadata": {},
   "source": [
    "### Additional Notes in alphas and betas"
   ]
  },
  {
   "cell_type": "markdown",
   "metadata": {},
   "source": [
    "The alphas and betas printed above are the alphas and betas at the moment we expand a certain node. In order to better understand the alpha-beta algorithm, it is very helpful to take a look to how the alphas and betas change for each node as we traverse the tree in a depth-first search fashion. Obviously, these nodes are non-pruned nodes."
   ]
  },
  {
   "cell_type": "code",
   "execution_count": 6,
   "metadata": {
    "scrolled": false
   },
   "outputs": [
    {
     "data": {
      "text/plain": [
       "[['d0', [-inf, -1]],\n",
       " ['c0', [-1, inf]],\n",
       " ['d1', [-1, 2]],\n",
       " ['d1', [-1, 2]],\n",
       " ['d1', [-1, -5]],\n",
       " ['c0', [-1, inf]],\n",
       " ['d2', [-1, 0]],\n",
       " ['c0', [0, inf]],\n",
       " ['b0', [-inf, 0]],\n",
       " ['d3', [-inf, 0]],\n",
       " ['d3', [-inf, 0]],\n",
       " ['c1', [4, 0]],\n",
       " ['b0', [-inf, 0]],\n",
       " ['a0', [0, inf]],\n",
       " ['d5', [0, 9]],\n",
       " ['d5', [0, 8]],\n",
       " ['c2', [8, inf]],\n",
       " ['d6', [8, 1]],\n",
       " ['c2', [8, inf]],\n",
       " ['b1', [0, 8]],\n",
       " ['d7', [0, 4]],\n",
       " ['c3', [4, 8]],\n",
       " ['d8', [4, 0]],\n",
       " ['c3', [4, 8]],\n",
       " ['b1', [0, 4]],\n",
       " ['a0', [4, inf]]]"
      ]
     },
     "execution_count": 6,
     "metadata": {},
     "output_type": "execute_result"
    }
   ],
   "source": [
    "alphas_betas"
   ]
  },
  {
   "cell_type": "markdown",
   "metadata": {},
   "source": [
    "Also, the final alphas and betas values for each node in the tree could help us know the best path in each turn."
   ]
  },
  {
   "cell_type": "code",
   "execution_count": 7,
   "metadata": {
    "scrolled": true
   },
   "outputs": [
    {
     "data": {
      "text/plain": [
       "{'d0': [-inf, -1],\n",
       " 'c0': [0, inf],\n",
       " 'd1': [-1, -5],\n",
       " 'd2': [-1, 0],\n",
       " 'b0': [-inf, 0],\n",
       " 'd3': [-inf, 0],\n",
       " 'c1': [4, 0],\n",
       " 'a0': [4, inf],\n",
       " 'd5': [0, 8],\n",
       " 'c2': [8, inf],\n",
       " 'd6': [8, 1],\n",
       " 'b1': [0, 4],\n",
       " 'd7': [0, 4],\n",
       " 'c3': [4, 8],\n",
       " 'd8': [4, 0]}"
      ]
     },
     "execution_count": 7,
     "metadata": {},
     "output_type": "execute_result"
    }
   ],
   "source": [
    "final_alpha_betas"
   ]
  }
 ],
 "metadata": {
  "kernelspec": {
   "display_name": "Python 3",
   "language": "python",
   "name": "python3"
  },
  "language_info": {
   "codemirror_mode": {
    "name": "ipython",
    "version": 3
   },
   "file_extension": ".py",
   "mimetype": "text/x-python",
   "name": "python",
   "nbconvert_exporter": "python",
   "pygments_lexer": "ipython3",
   "version": "3.8.5"
  }
 },
 "nbformat": 4,
 "nbformat_minor": 4
}
