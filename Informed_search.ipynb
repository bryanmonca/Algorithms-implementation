{
 "cells": [
  {
   "cell_type": "markdown",
   "metadata": {},
   "source": [
    "## Graph"
   ]
  },
  {
   "cell_type": "markdown",
   "metadata": {},
   "source": [
    "Below is provided a graph which vertices are different cities from Egypt and the edges are the distances to get from one city to another. We represent this graph with a dictionary because it is convenient."
   ]
  },
  {
   "cell_type": "code",
   "execution_count": 4,
   "metadata": {},
   "outputs": [],
   "source": [
    "graph = {\n",
    "    'Alexandria' : [['Matruh', 159], ['Cairo', 112], ['Nekhel', 245]],\n",
    "    'Matruh' : [['Siwa', 181], ['Alexandria', 159]],\n",
    "    'Nekhel' : [['Alexandria', 245], ['Suez', 72], ['Quseir', 265]],\n",
    "    'Cairo' : [['Alexandria', 112], ['Bawiti', 186], ['Asyut', 198]],\n",
    "    'Siwa' : [['Matruh', 181], ['Bawiti', 210]],\n",
    "    'Suez' : [['Nekhel', 72]],\n",
    "    'Quseir' : [['Nekhel', 265], ['Sohag', 163]],\n",
    "    'Bawiti' : [['Siwa', 210], ['Qasr Farafra', 104], ['Cairo', 186]],\n",
    "    'Asyut' : [['Cairo', 198]],\n",
    "    'Sohag' : [['Mut', 184], ['Qena', 69], ['Quseir', 163]],\n",
    "    'Qasr Farafra' : [['Bawiti', 104], ['Mut', 126]],\n",
    "    'Qena' : [['Sohag', 69], ['Luxor', 33]],\n",
    "    'Mut' : [['Qasr Farafra', 126], ['Kharga', 98], ['Sohag', 184]],\n",
    "    'Luxor' : [['Qena', 33]],\n",
    "    'Kharga' : [['Mut', 98]]\n",
    "}"
   ]
  },
  {
   "cell_type": "markdown",
   "metadata": {},
   "source": [
    "## Straight Line Distance (SLD)"
   ]
  },
  {
   "cell_type": "markdown",
   "metadata": {},
   "source": [
    "Additionally, two admissible heuristics h1 and h2, with distances from each city to Luxor are provided. We will also present both heuristics in a dictionary. Key: City, Value: [h1, h2]"
   ]
  },
  {
   "cell_type": "code",
   "execution_count": 5,
   "metadata": {},
   "outputs": [],
   "source": [
    "sld = {\n",
    "    'Alexandria' : [152, 163], ## I provided it for consistency\n",
    "    'Matruh' : [174, 189],\n",
    "    'Cairo' : [126, 139],\n",
    "    'Nekhel' : [133, 145],\n",
    "    'Siwa' : [132, 148],\n",
    "    'Bawiti' : [105, 118],\n",
    "    'Asyut' : [52, 67],\n",
    "    'Suez' : [121, 136],\n",
    "    'Qasr Farafra' : [68, 77],\n",
    "    'Quseir' : [55, 59],\n",
    "    'Mut' : [51, 65],\n",
    "    'Kharga' : [24, 38],\n",
    "    'Sohag' : [27, 36],\n",
    "    'Qena' : [10, 19],\n",
    "    'Luxor' : [0, 0]\n",
    "}"
   ]
  },
  {
   "cell_type": "markdown",
   "metadata": {},
   "source": [
    "## Queueing functions"
   ]
  },
  {
   "cell_type": "markdown",
   "metadata": {},
   "source": [
    "The graph above will be traversed using two different algorithms:\n",
    "* Greedy Search\n",
    "* A* Search\n",
    "\n",
    "The implementation of the algorithms only varies in the queueing function, so we designed an efficient way to implement the different traversings by a search function that calls a queueing function. \n",
    "\n",
    "The data structure used to do the queueing in each case is a dictionary. We will use two dictionaries: the first one represents the queue (priority queue) and the second one represents the nodes already visited. The key-value pair is `key: node`, `value: [path_cost, cost_to_goal, total_cost]`"
   ]
  },
  {
   "cell_type": "markdown",
   "metadata": {},
   "source": [
    "Queueing function:"
   ]
  },
  {
   "cell_type": "code",
   "execution_count": 12,
   "metadata": {},
   "outputs": [],
   "source": [
    "# Enqueues the children of a given start_node from a graph. It saves them in a priority queue \n",
    "# with their respective costs. Order_by decides which sorting to do for the queue, it could be \n",
    "# either 1: by cost_to_goal (greedy), or 2: by total_cost (A*).\n",
    "def queueing(graph, start_node, start_node_costs, queue, visited, heuristic, order_by):\n",
    "    for node, node_cost in graph[start_node]:\n",
    "        path_cost = start_node_costs[0] + node_cost\n",
    "        cost_to_goal = sld[node][heuristic-1]\n",
    "        total_cost = path_cost + cost_to_goal\n",
    "        if (node not in visited) and (node not in queue) and (node != None):\n",
    "            queue[node] = [path_cost, cost_to_goal, total_cost]            \n",
    "    visited[start_node] = start_node_costs\n",
    "    queue = dict(sorted(queue.items(), key=lambda x: x[1][order_by]))\n",
    "    return queue, visited"
   ]
  },
  {
   "cell_type": "markdown",
   "metadata": {},
   "source": [
    "## Search Algorithm"
   ]
  },
  {
   "cell_type": "markdown",
   "metadata": {},
   "source": [
    "Now we define our search function:"
   ]
  },
  {
   "cell_type": "code",
   "execution_count": 14,
   "metadata": {},
   "outputs": [],
   "source": [
    "# Search function, traverses a graph until reaching the goal using a provided option of \n",
    "# Greedy search or A* search (Greedy, or A*). Start and goal of the graph are needed. Also,\n",
    "# the heuristic to be used is needed (either 1 or 2). Queue sorting changes depending on \n",
    "# the option.\n",
    "def search(graph, option, start_node, goal, heuristic):\n",
    "    visited = {}\n",
    "    queue = {}\n",
    "    queue[start_node] = [0, sld[start_node][heuristic-1], 0 + sld[start_node][heuristic-1]]\n",
    "    while queue:\n",
    "        start_node = list(queue.keys())[0] # we will pop first in\n",
    "        start_node_costs = queue.pop(start_node) # pop and save costs\n",
    "        if start_node == goal:\n",
    "            print(start_node, end = \".\")\n",
    "            print(\"\\nDistance:\", start_node_costs[0], \"miles\",\n",
    "                  \"\\nNumber of Nodes Expanded\", len(visited), \"nodes\")\n",
    "            return\n",
    "        print(start_node, end = \", \") # print visited node\n",
    "        if option == \"Greedy\":\n",
    "            queue, visited = queueing(graph, start_node, start_node_costs, queue, visited, heuristic, order_by = 1)\n",
    "        elif option == \"A*\":\n",
    "            queue, visited = queueing(graph, start_node, start_node_costs, queue, visited, heuristic, order_by = 2)\n"
   ]
  },
  {
   "cell_type": "markdown",
   "metadata": {},
   "source": [
    "## Traversing Graph"
   ]
  },
  {
   "cell_type": "markdown",
   "metadata": {},
   "source": [
    "Testing our search function on Egipt's map with the two different options:\n",
    "* `'Greedy'`: Greedy Search\n",
    "* `'A*'`: A* Search"
   ]
  },
  {
   "cell_type": "code",
   "execution_count": 16,
   "metadata": {
    "scrolled": false
   },
   "outputs": [
    {
     "name": "stdout",
     "output_type": "stream",
     "text": [
      "\n",
      "---Heuristic 1 ---\n",
      "\n",
      "Result using Greedy\n",
      "Output: Alexandria, Cairo, Asyut, Bawiti, Qasr Farafra, Mut, Kharga, Sohag, Qena, Luxor.\n",
      "Distance: 814 miles \n",
      "Number of Nodes Expanded 9 nodes\n",
      "\n",
      "Result using A*\n",
      "Output: Alexandria, Cairo, Matruh, Asyut, Nekhel, Bawiti, Suez, Qasr Farafra, Siwa, Quseir, Mut, Kharga, Sohag, Qena, Luxor.\n",
      "Distance: 775 miles \n",
      "Number of Nodes Expanded 14 nodes\n",
      "\n",
      "---Heuristic 2 ---\n",
      "\n",
      "Result using Greedy\n",
      "Output: Alexandria, Cairo, Asyut, Bawiti, Qasr Farafra, Mut, Sohag, Qena, Luxor.\n",
      "Distance: 814 miles \n",
      "Number of Nodes Expanded 8 nodes\n",
      "\n",
      "Result using A*\n",
      "Output: Alexandria, Cairo, Matruh, Asyut, Nekhel, Bawiti, Suez, Qasr Farafra, Siwa, Quseir, Mut, Kharga, Sohag, Qena, Luxor.\n",
      "Distance: 775 miles \n",
      "Number of Nodes Expanded 14 nodes\n"
     ]
    }
   ],
   "source": [
    "options = ['Greedy', 'A*']\n",
    "heuristics = [1, 2]\n",
    "for heuristic in heuristics:\n",
    "    print(\"\\n---Heuristic\", heuristic, \"---\")\n",
    "    for option in options:\n",
    "        print(\"\\nResult using\", option)\n",
    "        print(\"Output: \", end = '')\n",
    "        search(graph, option, 'Alexandria', 'Luxor', heuristic)"
   ]
  },
  {
   "cell_type": "markdown",
   "metadata": {},
   "source": [
    "As expected, A* got to an optimal solution for both heuristics. A* search reached the goal in a distance of 775 miles expanding 14 nodes for both heuristics. \n",
    "\n",
    "In the other hand, Greedy search traverses less city nodes, 9 for the first heuristic and 8 for the second heuristic, but it did not reach to an optimal solution, the distance found was 814 miles."
   ]
  },
  {
   "cell_type": "markdown",
   "metadata": {},
   "source": [
    "## Summary\n",
    "### Greedy\n",
    "|        |  Greedy( h1 )   |   Greedy( h2 )   |\n",
    "|--------|---------|---------|\n",
    "|**Distance**|814 miles|814 miles|\n",
    "|**Nodes Expanded**|9 nodes|8 nodes|\n",
    "\n",
    "### A*\n",
    "|        |  A*( h1 )     |    A*( h2 )   |\n",
    "|--------|---------|---------|\n",
    "|**Distance**|775 miles|775 miles|\n",
    "|**Nodes Expanded**|14 nodes|14 nodes|"
   ]
  },
  {
   "cell_type": "markdown",
   "metadata": {},
   "source": [
    "## Additional Notes"
   ]
  },
  {
   "cell_type": "markdown",
   "metadata": {},
   "source": [
    "### Inspecting each queue"
   ]
  },
  {
   "cell_type": "code",
   "execution_count": 17,
   "metadata": {},
   "outputs": [],
   "source": [
    "def search(graph, option, start_node, goal, heuristic):\n",
    "    visited = {}\n",
    "    queue = {}\n",
    "    queue[start_node] = [0, sld[start_node][heuristic-1], 0 + sld[start_node][heuristic-1]]\n",
    "    while queue:\n",
    "        print(\"\\nqueue: \", queue)\n",
    "        print(\"visited: \", visited, \"\\n\")\n",
    "        start_node = list(queue.keys())[0] # we will pop first in\n",
    "        start_node_costs = queue.pop(start_node) # pop and save costs\n",
    "        if start_node == goal:\n",
    "            print(start_node, end = \".\")\n",
    "            print(\"\\nDistance:\", start_node_costs[0], \"miles\",\n",
    "                  \"\\nNumber of Nodes Expanded\", len(visited), \"nodes\")\n",
    "            return\n",
    "        print(start_node, end = \", \") # print visited node\n",
    "        if option == \"Greedy\":\n",
    "            queue, visited = queueing(graph, start_node, start_node_costs, queue, visited, heuristic, order_by = 1)\n",
    "        elif option == \"A*\":\n",
    "            queue, visited = queueing(graph, start_node, start_node_costs, queue, visited, heuristic, order_by = 2)\n"
   ]
  },
  {
   "cell_type": "code",
   "execution_count": 22,
   "metadata": {
    "scrolled": false
   },
   "outputs": [
    {
     "name": "stdout",
     "output_type": "stream",
     "text": [
      "\n",
      "---Heuristic 1 ---\n",
      "\n",
      "Result using Greedy\n",
      "Output: \n",
      "queue:  {'Alexandria': [0, 152, 152]}\n",
      "visited:  {} \n",
      "\n",
      "Alexandria, \n",
      "queue:  {'Cairo': [112, 126, 238], 'Nekhel': [245, 133, 378], 'Matruh': [159, 174, 333]}\n",
      "visited:  {'Alexandria': [0, 152, 152]} \n",
      "\n",
      "Cairo, \n",
      "queue:  {'Asyut': [310, 52, 362], 'Bawiti': [298, 105, 403], 'Nekhel': [245, 133, 378], 'Matruh': [159, 174, 333]}\n",
      "visited:  {'Alexandria': [0, 152, 152], 'Cairo': [112, 126, 238]} \n",
      "\n",
      "Asyut, \n",
      "queue:  {'Bawiti': [298, 105, 403], 'Nekhel': [245, 133, 378], 'Matruh': [159, 174, 333]}\n",
      "visited:  {'Alexandria': [0, 152, 152], 'Cairo': [112, 126, 238], 'Asyut': [310, 52, 362]} \n",
      "\n",
      "Bawiti, \n",
      "queue:  {'Qasr Farafra': [402, 68, 470], 'Siwa': [508, 132, 640], 'Nekhel': [245, 133, 378], 'Matruh': [159, 174, 333]}\n",
      "visited:  {'Alexandria': [0, 152, 152], 'Cairo': [112, 126, 238], 'Asyut': [310, 52, 362], 'Bawiti': [298, 105, 403]} \n",
      "\n",
      "Qasr Farafra, \n",
      "queue:  {'Mut': [528, 51, 579], 'Siwa': [508, 132, 640], 'Nekhel': [245, 133, 378], 'Matruh': [159, 174, 333]}\n",
      "visited:  {'Alexandria': [0, 152, 152], 'Cairo': [112, 126, 238], 'Asyut': [310, 52, 362], 'Bawiti': [298, 105, 403], 'Qasr Farafra': [402, 68, 470]} \n",
      "\n",
      "Mut, \n",
      "queue:  {'Kharga': [626, 24, 650], 'Sohag': [712, 27, 739], 'Siwa': [508, 132, 640], 'Nekhel': [245, 133, 378], 'Matruh': [159, 174, 333]}\n",
      "visited:  {'Alexandria': [0, 152, 152], 'Cairo': [112, 126, 238], 'Asyut': [310, 52, 362], 'Bawiti': [298, 105, 403], 'Qasr Farafra': [402, 68, 470], 'Mut': [528, 51, 579]} \n",
      "\n",
      "Kharga, \n",
      "queue:  {'Sohag': [712, 27, 739], 'Siwa': [508, 132, 640], 'Nekhel': [245, 133, 378], 'Matruh': [159, 174, 333]}\n",
      "visited:  {'Alexandria': [0, 152, 152], 'Cairo': [112, 126, 238], 'Asyut': [310, 52, 362], 'Bawiti': [298, 105, 403], 'Qasr Farafra': [402, 68, 470], 'Mut': [528, 51, 579], 'Kharga': [626, 24, 650]} \n",
      "\n",
      "Sohag, \n",
      "queue:  {'Qena': [781, 10, 791], 'Quseir': [875, 55, 930], 'Siwa': [508, 132, 640], 'Nekhel': [245, 133, 378], 'Matruh': [159, 174, 333]}\n",
      "visited:  {'Alexandria': [0, 152, 152], 'Cairo': [112, 126, 238], 'Asyut': [310, 52, 362], 'Bawiti': [298, 105, 403], 'Qasr Farafra': [402, 68, 470], 'Mut': [528, 51, 579], 'Kharga': [626, 24, 650], 'Sohag': [712, 27, 739]} \n",
      "\n",
      "Qena, \n",
      "queue:  {'Luxor': [814, 0, 814], 'Quseir': [875, 55, 930], 'Siwa': [508, 132, 640], 'Nekhel': [245, 133, 378], 'Matruh': [159, 174, 333]}\n",
      "visited:  {'Alexandria': [0, 152, 152], 'Cairo': [112, 126, 238], 'Asyut': [310, 52, 362], 'Bawiti': [298, 105, 403], 'Qasr Farafra': [402, 68, 470], 'Mut': [528, 51, 579], 'Kharga': [626, 24, 650], 'Sohag': [712, 27, 739], 'Qena': [781, 10, 791]} \n",
      "\n",
      "Luxor.\n",
      "Distance: 814 miles \n",
      "Number of Nodes Expanded 9 nodes\n",
      "==============================================\n",
      "\n",
      "Result using A*\n",
      "Output: \n",
      "queue:  {'Alexandria': [0, 152, 152]}\n",
      "visited:  {} \n",
      "\n",
      "Alexandria, \n",
      "queue:  {'Cairo': [112, 126, 238], 'Matruh': [159, 174, 333], 'Nekhel': [245, 133, 378]}\n",
      "visited:  {'Alexandria': [0, 152, 152]} \n",
      "\n",
      "Cairo, \n",
      "queue:  {'Matruh': [159, 174, 333], 'Asyut': [310, 52, 362], 'Nekhel': [245, 133, 378], 'Bawiti': [298, 105, 403]}\n",
      "visited:  {'Alexandria': [0, 152, 152], 'Cairo': [112, 126, 238]} \n",
      "\n",
      "Matruh, \n",
      "queue:  {'Asyut': [310, 52, 362], 'Nekhel': [245, 133, 378], 'Bawiti': [298, 105, 403], 'Siwa': [340, 132, 472]}\n",
      "visited:  {'Alexandria': [0, 152, 152], 'Cairo': [112, 126, 238], 'Matruh': [159, 174, 333]} \n",
      "\n",
      "Asyut, \n",
      "queue:  {'Nekhel': [245, 133, 378], 'Bawiti': [298, 105, 403], 'Siwa': [340, 132, 472]}\n",
      "visited:  {'Alexandria': [0, 152, 152], 'Cairo': [112, 126, 238], 'Matruh': [159, 174, 333], 'Asyut': [310, 52, 362]} \n",
      "\n",
      "Nekhel, \n",
      "queue:  {'Bawiti': [298, 105, 403], 'Suez': [317, 121, 438], 'Siwa': [340, 132, 472], 'Quseir': [510, 55, 565]}\n",
      "visited:  {'Alexandria': [0, 152, 152], 'Cairo': [112, 126, 238], 'Matruh': [159, 174, 333], 'Asyut': [310, 52, 362], 'Nekhel': [245, 133, 378]} \n",
      "\n",
      "Bawiti, \n",
      "queue:  {'Suez': [317, 121, 438], 'Qasr Farafra': [402, 68, 470], 'Siwa': [340, 132, 472], 'Quseir': [510, 55, 565]}\n",
      "visited:  {'Alexandria': [0, 152, 152], 'Cairo': [112, 126, 238], 'Matruh': [159, 174, 333], 'Asyut': [310, 52, 362], 'Nekhel': [245, 133, 378], 'Bawiti': [298, 105, 403]} \n",
      "\n",
      "Suez, \n",
      "queue:  {'Qasr Farafra': [402, 68, 470], 'Siwa': [340, 132, 472], 'Quseir': [510, 55, 565]}\n",
      "visited:  {'Alexandria': [0, 152, 152], 'Cairo': [112, 126, 238], 'Matruh': [159, 174, 333], 'Asyut': [310, 52, 362], 'Nekhel': [245, 133, 378], 'Bawiti': [298, 105, 403], 'Suez': [317, 121, 438]} \n",
      "\n",
      "Qasr Farafra, \n",
      "queue:  {'Siwa': [340, 132, 472], 'Quseir': [510, 55, 565], 'Mut': [528, 51, 579]}\n",
      "visited:  {'Alexandria': [0, 152, 152], 'Cairo': [112, 126, 238], 'Matruh': [159, 174, 333], 'Asyut': [310, 52, 362], 'Nekhel': [245, 133, 378], 'Bawiti': [298, 105, 403], 'Suez': [317, 121, 438], 'Qasr Farafra': [402, 68, 470]} \n",
      "\n",
      "Siwa, \n",
      "queue:  {'Quseir': [510, 55, 565], 'Mut': [528, 51, 579]}\n",
      "visited:  {'Alexandria': [0, 152, 152], 'Cairo': [112, 126, 238], 'Matruh': [159, 174, 333], 'Asyut': [310, 52, 362], 'Nekhel': [245, 133, 378], 'Bawiti': [298, 105, 403], 'Suez': [317, 121, 438], 'Qasr Farafra': [402, 68, 470], 'Siwa': [340, 132, 472]} \n",
      "\n",
      "Quseir, \n",
      "queue:  {'Mut': [528, 51, 579], 'Sohag': [673, 27, 700]}\n",
      "visited:  {'Alexandria': [0, 152, 152], 'Cairo': [112, 126, 238], 'Matruh': [159, 174, 333], 'Asyut': [310, 52, 362], 'Nekhel': [245, 133, 378], 'Bawiti': [298, 105, 403], 'Suez': [317, 121, 438], 'Qasr Farafra': [402, 68, 470], 'Siwa': [340, 132, 472], 'Quseir': [510, 55, 565]} \n",
      "\n",
      "Mut, \n",
      "queue:  {'Kharga': [626, 24, 650], 'Sohag': [673, 27, 700]}\n",
      "visited:  {'Alexandria': [0, 152, 152], 'Cairo': [112, 126, 238], 'Matruh': [159, 174, 333], 'Asyut': [310, 52, 362], 'Nekhel': [245, 133, 378], 'Bawiti': [298, 105, 403], 'Suez': [317, 121, 438], 'Qasr Farafra': [402, 68, 470], 'Siwa': [340, 132, 472], 'Quseir': [510, 55, 565], 'Mut': [528, 51, 579]} \n",
      "\n",
      "Kharga, \n",
      "queue:  {'Sohag': [673, 27, 700]}\n",
      "visited:  {'Alexandria': [0, 152, 152], 'Cairo': [112, 126, 238], 'Matruh': [159, 174, 333], 'Asyut': [310, 52, 362], 'Nekhel': [245, 133, 378], 'Bawiti': [298, 105, 403], 'Suez': [317, 121, 438], 'Qasr Farafra': [402, 68, 470], 'Siwa': [340, 132, 472], 'Quseir': [510, 55, 565], 'Mut': [528, 51, 579], 'Kharga': [626, 24, 650]} \n",
      "\n",
      "Sohag, \n",
      "queue:  {'Qena': [742, 10, 752]}\n",
      "visited:  {'Alexandria': [0, 152, 152], 'Cairo': [112, 126, 238], 'Matruh': [159, 174, 333], 'Asyut': [310, 52, 362], 'Nekhel': [245, 133, 378], 'Bawiti': [298, 105, 403], 'Suez': [317, 121, 438], 'Qasr Farafra': [402, 68, 470], 'Siwa': [340, 132, 472], 'Quseir': [510, 55, 565], 'Mut': [528, 51, 579], 'Kharga': [626, 24, 650], 'Sohag': [673, 27, 700]} \n",
      "\n",
      "Qena, \n",
      "queue:  {'Luxor': [775, 0, 775]}\n",
      "visited:  {'Alexandria': [0, 152, 152], 'Cairo': [112, 126, 238], 'Matruh': [159, 174, 333], 'Asyut': [310, 52, 362], 'Nekhel': [245, 133, 378], 'Bawiti': [298, 105, 403], 'Suez': [317, 121, 438], 'Qasr Farafra': [402, 68, 470], 'Siwa': [340, 132, 472], 'Quseir': [510, 55, 565], 'Mut': [528, 51, 579], 'Kharga': [626, 24, 650], 'Sohag': [673, 27, 700], 'Qena': [742, 10, 752]} \n",
      "\n",
      "Luxor.\n",
      "Distance: 775 miles \n",
      "Number of Nodes Expanded 14 nodes\n",
      "==============================================\n",
      "\n",
      "---Heuristic 2 ---\n",
      "\n",
      "Result using Greedy\n",
      "Output: \n",
      "queue:  {'Alexandria': [0, 163, 163]}\n",
      "visited:  {} \n",
      "\n",
      "Alexandria, \n",
      "queue:  {'Cairo': [112, 139, 251], 'Nekhel': [245, 145, 390], 'Matruh': [159, 189, 348]}\n",
      "visited:  {'Alexandria': [0, 163, 163]} \n",
      "\n",
      "Cairo, \n",
      "queue:  {'Asyut': [310, 67, 377], 'Bawiti': [298, 118, 416], 'Nekhel': [245, 145, 390], 'Matruh': [159, 189, 348]}\n",
      "visited:  {'Alexandria': [0, 163, 163], 'Cairo': [112, 139, 251]} \n",
      "\n",
      "Asyut, \n",
      "queue:  {'Bawiti': [298, 118, 416], 'Nekhel': [245, 145, 390], 'Matruh': [159, 189, 348]}\n",
      "visited:  {'Alexandria': [0, 163, 163], 'Cairo': [112, 139, 251], 'Asyut': [310, 67, 377]} \n",
      "\n",
      "Bawiti, \n",
      "queue:  {'Qasr Farafra': [402, 77, 479], 'Nekhel': [245, 145, 390], 'Siwa': [508, 148, 656], 'Matruh': [159, 189, 348]}\n",
      "visited:  {'Alexandria': [0, 163, 163], 'Cairo': [112, 139, 251], 'Asyut': [310, 67, 377], 'Bawiti': [298, 118, 416]} \n",
      "\n",
      "Qasr Farafra, \n",
      "queue:  {'Mut': [528, 65, 593], 'Nekhel': [245, 145, 390], 'Siwa': [508, 148, 656], 'Matruh': [159, 189, 348]}\n",
      "visited:  {'Alexandria': [0, 163, 163], 'Cairo': [112, 139, 251], 'Asyut': [310, 67, 377], 'Bawiti': [298, 118, 416], 'Qasr Farafra': [402, 77, 479]} \n",
      "\n",
      "Mut, \n",
      "queue:  {'Sohag': [712, 36, 748], 'Kharga': [626, 38, 664], 'Nekhel': [245, 145, 390], 'Siwa': [508, 148, 656], 'Matruh': [159, 189, 348]}\n",
      "visited:  {'Alexandria': [0, 163, 163], 'Cairo': [112, 139, 251], 'Asyut': [310, 67, 377], 'Bawiti': [298, 118, 416], 'Qasr Farafra': [402, 77, 479], 'Mut': [528, 65, 593]} \n",
      "\n",
      "Sohag, \n",
      "queue:  {'Qena': [781, 19, 800], 'Kharga': [626, 38, 664], 'Quseir': [875, 59, 934], 'Nekhel': [245, 145, 390], 'Siwa': [508, 148, 656], 'Matruh': [159, 189, 348]}\n",
      "visited:  {'Alexandria': [0, 163, 163], 'Cairo': [112, 139, 251], 'Asyut': [310, 67, 377], 'Bawiti': [298, 118, 416], 'Qasr Farafra': [402, 77, 479], 'Mut': [528, 65, 593], 'Sohag': [712, 36, 748]} \n",
      "\n",
      "Qena, \n",
      "queue:  {'Luxor': [814, 0, 814], 'Kharga': [626, 38, 664], 'Quseir': [875, 59, 934], 'Nekhel': [245, 145, 390], 'Siwa': [508, 148, 656], 'Matruh': [159, 189, 348]}\n",
      "visited:  {'Alexandria': [0, 163, 163], 'Cairo': [112, 139, 251], 'Asyut': [310, 67, 377], 'Bawiti': [298, 118, 416], 'Qasr Farafra': [402, 77, 479], 'Mut': [528, 65, 593], 'Sohag': [712, 36, 748], 'Qena': [781, 19, 800]} \n",
      "\n",
      "Luxor.\n",
      "Distance: 814 miles \n",
      "Number of Nodes Expanded 8 nodes\n",
      "==============================================\n",
      "\n",
      "Result using A*\n",
      "Output: \n",
      "queue:  {'Alexandria': [0, 163, 163]}\n",
      "visited:  {} \n",
      "\n",
      "Alexandria, \n",
      "queue:  {'Cairo': [112, 139, 251], 'Matruh': [159, 189, 348], 'Nekhel': [245, 145, 390]}\n",
      "visited:  {'Alexandria': [0, 163, 163]} \n",
      "\n",
      "Cairo, \n",
      "queue:  {'Matruh': [159, 189, 348], 'Asyut': [310, 67, 377], 'Nekhel': [245, 145, 390], 'Bawiti': [298, 118, 416]}\n",
      "visited:  {'Alexandria': [0, 163, 163], 'Cairo': [112, 139, 251]} \n",
      "\n",
      "Matruh, \n",
      "queue:  {'Asyut': [310, 67, 377], 'Nekhel': [245, 145, 390], 'Bawiti': [298, 118, 416], 'Siwa': [340, 148, 488]}\n",
      "visited:  {'Alexandria': [0, 163, 163], 'Cairo': [112, 139, 251], 'Matruh': [159, 189, 348]} \n",
      "\n",
      "Asyut, \n",
      "queue:  {'Nekhel': [245, 145, 390], 'Bawiti': [298, 118, 416], 'Siwa': [340, 148, 488]}\n",
      "visited:  {'Alexandria': [0, 163, 163], 'Cairo': [112, 139, 251], 'Matruh': [159, 189, 348], 'Asyut': [310, 67, 377]} \n",
      "\n",
      "Nekhel, \n",
      "queue:  {'Bawiti': [298, 118, 416], 'Suez': [317, 136, 453], 'Siwa': [340, 148, 488], 'Quseir': [510, 59, 569]}\n",
      "visited:  {'Alexandria': [0, 163, 163], 'Cairo': [112, 139, 251], 'Matruh': [159, 189, 348], 'Asyut': [310, 67, 377], 'Nekhel': [245, 145, 390]} \n",
      "\n",
      "Bawiti, \n",
      "queue:  {'Suez': [317, 136, 453], 'Qasr Farafra': [402, 77, 479], 'Siwa': [340, 148, 488], 'Quseir': [510, 59, 569]}\n",
      "visited:  {'Alexandria': [0, 163, 163], 'Cairo': [112, 139, 251], 'Matruh': [159, 189, 348], 'Asyut': [310, 67, 377], 'Nekhel': [245, 145, 390], 'Bawiti': [298, 118, 416]} \n",
      "\n",
      "Suez, \n",
      "queue:  {'Qasr Farafra': [402, 77, 479], 'Siwa': [340, 148, 488], 'Quseir': [510, 59, 569]}\n",
      "visited:  {'Alexandria': [0, 163, 163], 'Cairo': [112, 139, 251], 'Matruh': [159, 189, 348], 'Asyut': [310, 67, 377], 'Nekhel': [245, 145, 390], 'Bawiti': [298, 118, 416], 'Suez': [317, 136, 453]} \n",
      "\n",
      "Qasr Farafra, \n",
      "queue:  {'Siwa': [340, 148, 488], 'Quseir': [510, 59, 569], 'Mut': [528, 65, 593]}\n",
      "visited:  {'Alexandria': [0, 163, 163], 'Cairo': [112, 139, 251], 'Matruh': [159, 189, 348], 'Asyut': [310, 67, 377], 'Nekhel': [245, 145, 390], 'Bawiti': [298, 118, 416], 'Suez': [317, 136, 453], 'Qasr Farafra': [402, 77, 479]} \n",
      "\n",
      "Siwa, \n",
      "queue:  {'Quseir': [510, 59, 569], 'Mut': [528, 65, 593]}\n",
      "visited:  {'Alexandria': [0, 163, 163], 'Cairo': [112, 139, 251], 'Matruh': [159, 189, 348], 'Asyut': [310, 67, 377], 'Nekhel': [245, 145, 390], 'Bawiti': [298, 118, 416], 'Suez': [317, 136, 453], 'Qasr Farafra': [402, 77, 479], 'Siwa': [340, 148, 488]} \n",
      "\n",
      "Quseir, \n",
      "queue:  {'Mut': [528, 65, 593], 'Sohag': [673, 36, 709]}\n",
      "visited:  {'Alexandria': [0, 163, 163], 'Cairo': [112, 139, 251], 'Matruh': [159, 189, 348], 'Asyut': [310, 67, 377], 'Nekhel': [245, 145, 390], 'Bawiti': [298, 118, 416], 'Suez': [317, 136, 453], 'Qasr Farafra': [402, 77, 479], 'Siwa': [340, 148, 488], 'Quseir': [510, 59, 569]} \n",
      "\n",
      "Mut, \n",
      "queue:  {'Kharga': [626, 38, 664], 'Sohag': [673, 36, 709]}\n",
      "visited:  {'Alexandria': [0, 163, 163], 'Cairo': [112, 139, 251], 'Matruh': [159, 189, 348], 'Asyut': [310, 67, 377], 'Nekhel': [245, 145, 390], 'Bawiti': [298, 118, 416], 'Suez': [317, 136, 453], 'Qasr Farafra': [402, 77, 479], 'Siwa': [340, 148, 488], 'Quseir': [510, 59, 569], 'Mut': [528, 65, 593]} \n",
      "\n",
      "Kharga, \n",
      "queue:  {'Sohag': [673, 36, 709]}\n",
      "visited:  {'Alexandria': [0, 163, 163], 'Cairo': [112, 139, 251], 'Matruh': [159, 189, 348], 'Asyut': [310, 67, 377], 'Nekhel': [245, 145, 390], 'Bawiti': [298, 118, 416], 'Suez': [317, 136, 453], 'Qasr Farafra': [402, 77, 479], 'Siwa': [340, 148, 488], 'Quseir': [510, 59, 569], 'Mut': [528, 65, 593], 'Kharga': [626, 38, 664]} \n",
      "\n",
      "Sohag, \n",
      "queue:  {'Qena': [742, 19, 761]}\n",
      "visited:  {'Alexandria': [0, 163, 163], 'Cairo': [112, 139, 251], 'Matruh': [159, 189, 348], 'Asyut': [310, 67, 377], 'Nekhel': [245, 145, 390], 'Bawiti': [298, 118, 416], 'Suez': [317, 136, 453], 'Qasr Farafra': [402, 77, 479], 'Siwa': [340, 148, 488], 'Quseir': [510, 59, 569], 'Mut': [528, 65, 593], 'Kharga': [626, 38, 664], 'Sohag': [673, 36, 709]} \n",
      "\n",
      "Qena, \n",
      "queue:  {'Luxor': [775, 0, 775]}\n",
      "visited:  {'Alexandria': [0, 163, 163], 'Cairo': [112, 139, 251], 'Matruh': [159, 189, 348], 'Asyut': [310, 67, 377], 'Nekhel': [245, 145, 390], 'Bawiti': [298, 118, 416], 'Suez': [317, 136, 453], 'Qasr Farafra': [402, 77, 479], 'Siwa': [340, 148, 488], 'Quseir': [510, 59, 569], 'Mut': [528, 65, 593], 'Kharga': [626, 38, 664], 'Sohag': [673, 36, 709], 'Qena': [742, 19, 761]} \n",
      "\n",
      "Luxor.\n",
      "Distance: 775 miles \n",
      "Number of Nodes Expanded 14 nodes\n",
      "==============================================\n"
     ]
    }
   ],
   "source": [
    "options = ['Greedy', 'A*']\n",
    "heuristics = [1, 2]\n",
    "for heuristic in heuristics:\n",
    "    print(\"\\n---Heuristic\", heuristic, \"---\")\n",
    "    for option in options:\n",
    "        print(\"\\nResult using\", option)\n",
    "        print(\"Output: \", end = '')\n",
    "        search(graph, option, 'Alexandria', 'Luxor', heuristic)\n",
    "        print(\"==============================================\")"
   ]
  }
 ],
 "metadata": {
  "kernelspec": {
   "display_name": "Python 3",
   "language": "python",
   "name": "python3"
  },
  "language_info": {
   "codemirror_mode": {
    "name": "ipython",
    "version": 3
   },
   "file_extension": ".py",
   "mimetype": "text/x-python",
   "name": "python",
   "nbconvert_exporter": "python",
   "pygments_lexer": "ipython3",
   "version": "3.8.5"
  }
 },
 "nbformat": 4,
 "nbformat_minor": 4
}
